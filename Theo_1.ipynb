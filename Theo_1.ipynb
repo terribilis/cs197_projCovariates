{
 "cells": [
  {
   "cell_type": "code",
   "execution_count": 1,
   "metadata": {
    "collapsed": true
   },
   "outputs": [],
   "source": [
    "import os\n",
    "os.environ[\"CUDA_VISIBLE_DEVICES\"] = \"3\"\n",
    "\n",
    "GENOMES = { \"mm10\" : \"/users/kcochran/genomes/mm10_no_alt_analysis_set_ENCODE.fasta\",\n",
    "            \"hg38\" : \"/users/kcochran/genomes/GRCh38_no_alt_analysis_set_GCA_000001405.15.fasta\" }\n",
    "\n",
    "ROOT = \"/users/kcochran/projects/cs197_cross_species_domain_adaptation/\"\n",
    "DATA_DIR = ROOT + \"data/\"\n",
    "\n",
    "SPECIES = [\"mouse\", \"human\"]\n",
    "\n",
    "TFS = [\"CTCF\", \"CEBPA\", \"HNF4A\", \"RXRA\"]\n",
    "\n",
    "TEST_DIR = \"/users/tkanell/team_covariates/data/human/accessibility/peaks.bed\"\n",
    "TEST_POS = \"/users/tkanell/team_covariates/data/human/accessibility/reads.bigWig\""
   ]
  },
  {
   "cell_type": "code",
   "execution_count": 2,
   "metadata": {
    "collapsed": true
   },
   "outputs": [],
   "source": [
    "import gzip\n",
    "from collections import defaultdict\n",
    "import random\n",
    "import numpy as np\n",
    "from pyfaidx import Fasta\n",
    "from torch.utils.data import Dataset\n",
    "import pyBigWig\n",
    "from matplotlib import pyplot as plt"
   ]
  },
  {
   "cell_type": "code",
   "execution_count": 3,
   "metadata": {
    "collapsed": true
   },
   "outputs": [],
   "source": [
    "def expand_window(start, end, target_len):\n",
    "    midpoint = (start + end) / 2\n",
    "    if not midpoint.is_integer() and target_len % 2 == 0:\n",
    "        midpoint = midpoint - 0.5\n",
    "    if midpoint.is_integer() and target_len % 2 != 0:\n",
    "        midpoint = midpoint - 0.5\n",
    "    new_start = midpoint - target_len / 2\n",
    "    new_end = midpoint + target_len / 2\n",
    "    \n",
    "    assert new_start.is_integer(), new_start\n",
    "    assert new_end.is_integer(), new_end\n",
    "    assert new_start >= 0\n",
    "    assert new_end - new_start == target_len, (new_end, new_start, target_len)\n",
    "    \n",
    "    return int(new_start), int(new_end)\n",
    "\n"
   ]
  },
  {
   "cell_type": "code",
   "execution_count": 4,
   "metadata": {
    "collapsed": true
   },
   "outputs": [],
   "source": [
    "class Generator(Dataset):\n",
    "    letter_dict = {\n",
    "        'a':[1,0,0,0],'c':[0,1,0,0],'g':[0,0,1,0],'t':[0,0,0,1],\n",
    "        'n':[0,0,0,0],'A':[1,0,0,0],'C':[0,1,0,0],'G':[0,0,1,0],\n",
    "        'T':[0,0,0,1],'N':[0,0,0,0]}\n",
    "\n",
    "    def __init__(self, species, tf, train_val_test,\n",
    "                 seq_len = 2114, profile_len = 1000, return_labels = True):\n",
    "        \n",
    "        assert train_val_test in [\"train\", \"val\", \"test\"]\n",
    "        self.peakfile = TEST_DIR\n",
    "        ## note: kelly will give you these files, but they are basically the same as normal peak files\n",
    "        #if train_val_test == \"train\":\n",
    "        #    self.peakfile = PEAKS_DIR + species + \"/\" + tf + \"/filtered_peaks_chr3toY.bed\"\n",
    "        #elif train_val_test == \"val\":\n",
    "        #    self.peakfile = PEAKS_DIR + species + \"/\" + tf + \"/filtered_peaks_chr1.bed\"\n",
    "        #else:\n",
    "        #    self.peakfile = PEAKS_DIR + species + \"/\" + tf + \"/filtered_peaks_chr2.bed\"\n",
    "            \n",
    "        self.pos_bw = TEST_POS#BIGWIGS_DIR + species + \"/\" + tf + \"/final.pos.bigWig\"\n",
    "        self.neg_bw = TEST_POS#BIGWIGS_DIR + species + \"/\" + tf + \"/final.neg.bigWig\"\n",
    "        self.prof_len = profile_len\n",
    "        self.max_jitter = 0\n",
    "        self.return_labels = return_labels\n",
    "        \n",
    "        #self.genome_file = GENOMES[species]\n",
    "        self.genome_file = GENOMES[\"hg38\"]\n",
    "        self.seq_len = seq_len\n",
    "\n",
    "        self.set_len()\n",
    "        self.coords = self.get_coords()\n",
    "        #self.seqs_onehot = self.convert(self.coords)\n",
    "        self.profiles, self.logcounts = self.get_profiles_and_logcounts(self.coords)\n",
    "\n",
    "\n",
    "    def __len__(self):\n",
    "        return self.len\n",
    "    \n",
    "    \n",
    "    def set_len(self):\n",
    "        with open(self.peakfile) as f:\n",
    "            gzip_fd = gzip.open(self.peakfile)\n",
    "            print(\"After\")\n",
    "            self.len = sum([1 for _ in gzip_fd])\n",
    "\n",
    "\n",
    "    def get_coords(self):\n",
    "        with open(self.peakfile) as pos:\n",
    "            posf = gzip.open(self.peakfile)\n",
    "            coords_tmp = [line.decode().split()[:3] for line in posf]  # expecting bed file format\n",
    "        \n",
    "        i = 0\n",
    "        coords = []\n",
    "        for coord in coords_tmp:\n",
    "            #print(coord)\n",
    "            chrom, start, end = coord[0], int(coord[1]), int(coord[2])\n",
    "            window_start, window_end = expand_window(start, end,\n",
    "                                                     self.seq_len + 2 * self.max_jitter)\n",
    "            coords.append((coord[0], window_start, window_end))  # no strand consideration\n",
    "            if i == 0:\n",
    "                print(coords[0])\n",
    "                i += 1\n",
    "            \n",
    "        return coords\n",
    "            \n",
    "\n",
    "    def get_profiles_and_logcounts(self, coords):\n",
    "        print(\"inside profiles\")\n",
    "        profiles = []\n",
    "        logcounts = []\n",
    "\n",
    "        with pyBigWig.open(self.pos_bw) as pos_bw_reader:\n",
    "            with pyBigWig.open(self.neg_bw) as neg_bw_reader:\n",
    "                for chrom, start, end in coords:\n",
    "                    #print(\"chrom \", chrom)\n",
    "                    #print(\"start \", start)\n",
    "                    #print(\"end \", end)\n",
    "                    # need to trim the profile length to match model output size\n",
    "                    # this is smaller than the input size bc of the receptive field\n",
    "                    # and deconv layer kernel width\n",
    "                    prof_start, prof_end = expand_window(start, end,\n",
    "                                                 self.prof_len + 2 * self.max_jitter)\n",
    "                    \n",
    "                    \n",
    "                    #print(\"I want \", pos_bw_reader.values(chrom, start, end))\n",
    "                    pos_profile = np.array(pos_bw_reader.values(chrom, prof_start, prof_end))\n",
    "                    pos_profile[np.isnan(pos_profile)] = 0\n",
    "                    neg_profile = np.array(neg_bw_reader.values(chrom, prof_start, prof_end))\n",
    "                    neg_profile[np.isnan(neg_profile)] = 0\n",
    "                    profile = np.array([pos_profile, neg_profile])\n",
    "                    \n",
    "                    pos_logcount = np.log(np.sum(pos_profile) + 1)\n",
    "                    neg_logcount = np.log(np.sum(neg_profile) + 1)\n",
    "                    logcount = np.array([pos_logcount, neg_logcount])\n",
    "\n",
    "                    profiles.append(profile)\n",
    "                    logcounts.append(logcount)\n",
    "        print(\"Finished going thorugh it all. \")        \n",
    "        profiles = np.array(profiles)\n",
    "        logcounts = np.array(logcounts)\n",
    "        \n",
    "        print(profiles.shape, \" is 0th in profiles\")\n",
    "        print(logcounts[:,0,].shape, \" is 0th in logcounts\")\n",
    "        \n",
    "        plt.title(\"Matplotlib demo\") \n",
    "        plt.xlabel(\"profiles\") \n",
    "        plt.ylabel(\"logcounts\") \n",
    "        #plt.plot(profiles[:,:,0],logcounts)\n",
    "        #plt.plot(logcounts[:,0,], logcounts[0,:])\n",
    "        plt.plot(profiles[:,1,0], logcounts[:,0,])\n",
    "        plt.show() \n",
    "        \n",
    "        return profiles, logcounts\n",
    "                \n",
    "\n",
    "    def convert(self, coords):\n",
    "        seqs_onehot = []\n",
    "        with Fasta(self.genome_file) as converter:\n",
    "            for coord in coords:\n",
    "                chrom, start, stop = coord\n",
    "                print (chrom, \" is chrom\")\n",
    "                assert chrom in converter\n",
    "                seq = converter[chrom][start:stop].seq\n",
    "                seq_onehot = np.array([self.letter_dict.get(x,[0,0,0,0]) for x in seq])\n",
    "                seqs_onehot.append(seq_onehot)\n",
    "\n",
    "        seqs_onehot = np.array(seqs_onehot)\n",
    "        return seqs_onehot\n",
    "\n",
    "\n",
    "    def __getitem__(self, batch_index):\t\n",
    "        # get coordinates\n",
    "        onehot = self.seqs_onehot[batch_index]\n",
    "        assert onehot.shape[0] > 0, onehot.shape\n",
    "\n",
    "        onehot = torch.tensor(onehot, dtype=torch.float).permute(1, 0)\n",
    "        \n",
    "        if not self.return_labels:\n",
    "            return onehot\n",
    "        else:\n",
    "            # get profiles and logcounts for the two strands\n",
    "            profiles = self.profiles[batch_index]\n",
    "            logcounts = self.logcounts[batch_index]\n",
    "\n",
    "            profiles = torch.tensor(profiles, dtype=torch.float)\n",
    "            logcounts = torch.tensor(logcounts, dtype=torch.float)\n",
    "            return onehot, profiles, logcounts\n"
   ]
  },
  {
   "cell_type": "code",
   "execution_count": 7,
   "metadata": {
    "collapsed": false
   },
   "outputs": [
    {
     "name": "stdout",
     "output_type": "stream",
     "text": [
      "After\n",
      "('chr1', 9483, 11597)\n",
      "inside profiles\n",
      "Finished going thorugh it all. \n",
      "(223028, 1000)  is 0th in profiles\n"
     ]
    },
    {
     "data": {
      "text/plain": [
       "<__main__.Generator at 0x7fc9aa3904d0>"
      ]
     },
     "execution_count": 7,
     "metadata": {},
     "output_type": "execute_result"
    }
   ],
   "source": [
    "train_species = \"mouse\"\n",
    "tf = \"CTCF\"\n",
    "Generator(train_species, tf, \"val\")"
   ]
  },
  {
   "cell_type": "code",
   "execution_count": null,
   "metadata": {
    "collapsed": true
   },
   "outputs": [],
   "source": []
  }
 ],
 "metadata": {
  "kernelspec": {
   "display_name": "Python 2",
   "language": "python",
   "name": "python2"
  },
  "language_info": {
   "codemirror_mode": {
    "name": "ipython",
    "version": 2
   },
   "file_extension": ".py",
   "mimetype": "text/x-python",
   "name": "python",
   "nbconvert_exporter": "python",
   "pygments_lexer": "ipython2",
   "version": "2.7.17"
  }
 },
 "nbformat": 4,
 "nbformat_minor": 2
}
